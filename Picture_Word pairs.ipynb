{
 "cells": [
  {
   "cell_type": "markdown",
   "metadata": {},
   "source": [
    "### Goal\n",
    "Create tuples of images and their word values\n",
    "\n",
    "Identify the number of unique characters\n",
    "\n",
    "### Plan of attack\n",
    "Create id/word tuples, than swap the id with the actual image\n",
    "\n",
    "As for finding unique characters, after exluding the lower or upper case letters, we will make a list of all the unique ascii values we find and check any non letters against it to make sure they're included."
   ]
  },
  {
   "cell_type": "code",
   "execution_count": null,
   "metadata": {},
   "outputs": [],
   "source": [
    "import xml.etree.ElementTree as ET\n",
    "import os\n",
    "import numpy as np"
   ]
  },
  {
   "cell_type": "markdown",
   "metadata": {},
   "source": [
    "Below: Code that has all the names and text for each image."
   ]
  },
  {
   "cell_type": "code",
   "execution_count": null,
   "metadata": {},
   "outputs": [],
   "source": [
    "#We're going to be looking in the .\\xml folder. \n",
    "rootDir = '.\\\\xml'\n",
    "\n",
    "#Looking through the xml folder\n",
    "for dirName, subdirList, fileList in os.walk(rootDir):\n",
    "    print('Found directory: %s' % dirName)\n",
    "    \n",
    "    #Our file names are going to be the xml files\n",
    "    for fname in fileList:\n",
    "        \n",
    "        #Only looking at files with extension .xml\n",
    "        if fname.endswith(\".xml\"):\n",
    "            \n",
    "            #dirName = .\\xml; fname = xml file; full = .\\xml\\a00...01.xml\n",
    "            #parse takes in an xml file to read\n",
    "            tree = ET.parse(dirName +  '\\\\' + fname)\n",
    "            root = tree.getroot()\n",
    "            \n",
    "            #Iterates through the root looking for the word boxes (apologies for lack of proper syntax) which contain \n",
    "            #the ids and text for the images\n",
    "            for child in root.iter('word'):\n",
    "                name = child.get('id')\n",
    "                words = child.get('text')\n",
    "    \n",
    "                print(name, words)"
   ]
  },
  {
   "cell_type": "markdown",
   "metadata": {},
   "source": [
    "Below: Code that finds number of unique characters\n",
    "\n",
    "We do this because we want to find the number of input neurons for our network."
   ]
  },
  {
   "cell_type": "code",
   "execution_count": 30,
   "metadata": {},
   "outputs": [
    {
     "name": "stdout",
     "output_type": "stream",
     "text": [
      "Found directory: .\\xml\n",
      "78\n"
     ]
    }
   ],
   "source": [
    "#Begins at 52 as those are the lower and upper case letters\n",
    "uniqueChars = 52\n",
    "\n",
    "#Array that keeps track of other unique characters\n",
    "arr = []\n",
    "\n",
    "#Keep track of if a character is unique of not\n",
    "unique = 0\n",
    "\n",
    "for dirName, subdirList, fileList in os.walk(rootDir):\n",
    "    print('Found directory: %s' % dirName)\n",
    "    \n",
    "    #Our file names are going to be the xml files\n",
    "    for fname in fileList:\n",
    "        \n",
    "        #Only looking at files with extension .xml\n",
    "        if fname.endswith(\".xml\"):\n",
    "            \n",
    "            #dirName = .\\xml; fname = xml file; full = .\\xml\\a00...01.xml\n",
    "            #parse takes in an xml file to read\n",
    "            tree = ET.parse(dirName +  '\\\\' + fname)\n",
    "            root = tree.getroot()\n",
    "            \n",
    "            #Iterates through the root looking for the word boxes (apologies for lack of proper syntax) which contain \n",
    "            #the ids and text for the images\n",
    "            for child in root.iter('word'):\n",
    "                words = child.get('text')\n",
    "                \n",
    "                #Above is exactly the same as the previous cell asise from not needing the id\n",
    "                \n",
    "                for x in range(0, len(words)):\n",
    "                    if ((ord(words[x]) >= 65 and ord(words[x]) <= 90) or (ord(words[x]) >= 97 and ord(words[x]) <= 122)):\n",
    "                        continue\n",
    "                    elif (words[x] == ' '):\n",
    "                        continue\n",
    "                    else:\n",
    "                        #Search through array\n",
    "                        unique = 1\n",
    "                        for y in range(0, len(arr)):\n",
    "                            if(ord(words[x]) == arr[y]):\n",
    "                                unique = 0\n",
    "                        \n",
    "                        if (unique == 1):\n",
    "                            arr.append(ord(words[x]))\n",
    "                            uniqueChars = uniqueChars + 1   \n",
    "\n",
    "                            \n",
    "print(uniqueChars)"
   ]
  }
 ],
 "metadata": {
  "kernelspec": {
   "display_name": "Python 3",
   "language": "python",
   "name": "python3"
  },
  "language_info": {
   "codemirror_mode": {
    "name": "ipython",
    "version": 3
   },
   "file_extension": ".py",
   "mimetype": "text/x-python",
   "name": "python",
   "nbconvert_exporter": "python",
   "pygments_lexer": "ipython3",
   "version": "3.6.5"
  }
 },
 "nbformat": 4,
 "nbformat_minor": 2
}
