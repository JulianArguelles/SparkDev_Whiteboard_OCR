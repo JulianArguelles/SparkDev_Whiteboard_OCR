{
 "cells": [
  {
   "cell_type": "code",
   "execution_count": 1,
   "metadata": {},
   "outputs": [],
   "source": [
    "import os\n",
    "import numpy as np\n",
    "import cv2"
   ]
  },
  {
   "cell_type": "markdown",
   "metadata": {},
   "source": [
    "### Goal\n",
    "Pad all the images and move them to a folder\n",
    "\n",
    "### Plan of Attack:\n",
    "\n",
    "Cycle through each image, keeping track of the largest width and height. Once completed, cycle through again adjusting each image so that they are padded to have the max width and height.\n",
    "\n",
    "#### Step One\n",
    "Find maxWidth and maxHeight by cycling through every image, comparing their width and height agaisnt are maxWidth and maxHeight variables, and replacing if we find a larger one."
   ]
  },
  {
   "cell_type": "code",
   "execution_count": 2,
   "metadata": {},
   "outputs": [
    {
     "name": "stdout",
     "output_type": "stream",
     "text": [
      "Max height: 342 Max width: 1934\n"
     ]
    }
   ],
   "source": [
    "maxHeight = 0\n",
    "maxWidth = 0\n",
    "\n",
    "#Our root dir is '.\\\\img', where all our images are stored\n",
    "rootDir = '.\\\\img'\n",
    "\n",
    "for dirName, subdirList, fileList in os.walk(rootDir):\n",
    "    #print('Found directory: %s' % dirName)\n",
    "    \n",
    "    \n",
    "    for fname in fileList:\n",
    "        \n",
    "        #Only works on files that end in .png\n",
    "        if fname.endswith(\".png\"):\n",
    "            #fname is the files name, dirname is the directory in which the file is found\n",
    "            dirfname = dirName + '\\\\' + fname\n",
    "            \n",
    "            #Loads image in grayscale\n",
    "            img = cv2.imread(dirfname, 0)\n",
    "            if img is not None:\n",
    "                #print (img.shape)\n",
    "                \n",
    "                #Compare current images width and height agaisnt our maximum, and replaces if larger\n",
    "                if (img.shape[0] > maxHeight):\n",
    "                    maxHeight = img.shape[0]\n",
    "                if (img.shape[1] > maxWidth):\n",
    "                    maxWidth = img.shape[1]\n",
    "\n",
    "#print out the maxHeight and maxWidth\n",
    "print('Max height: '+ str(maxHeight) + ' Max width: ' + str(maxWidth))"
   ]
  },
  {
   "cell_type": "markdown",
   "metadata": {},
   "source": [
    "#### Step Two\n",
    "\n",
    "Pad the images so they have a consistent height and width, then save them to a new folder, paddedImg."
   ]
  },
  {
   "cell_type": "code",
   "execution_count": 3,
   "metadata": {},
   "outputs": [],
   "source": [
    "for dirName, subdirList, fileList in os.walk(rootDir):\n",
    "    for fname in fileList:\n",
    "        if fname.endswith(\".png\"):\n",
    "            dirfname = dirName + '\\\\' + fname\n",
    "            img = cv2.imread(dirfname, 0)\n",
    "            \n",
    "            if img is not None:\n",
    "\n",
    "                #Make a new image as to not meddle with the original\n",
    "                newImage = img.copy()\n",
    "                \n",
    "                #Pads the image to make it have the dimensions (maxHeight, maxWidth)\n",
    "                newImage = np.pad(newImage, ((int((maxHeight - newImage.shape[0])/2), int((maxHeight - newImage.shape[0])/2)),\n",
    "                                  (int((maxWidth - newImage.shape[1])/2), int((maxWidth - newImage.shape[1])/2))), 'constant')  \n",
    "                \n",
    "                #If statements to fix an inconsistency in size caused by division by 2\n",
    "                if (newImage.shape[0] == maxHeight - 1):\n",
    "                    newImage = np.pad(newImage, ((1, 0),(0, 0)), 'constant')\n",
    "                    \n",
    "                if (newImage.shape[1] == maxWidth - 1):\n",
    "                    newImage = np.pad(newImage, ((0, 0),(1, 0)), 'constant')\n",
    "                \n",
    "                cv2.imwrite('./paddedImg/' + fname + '.png', newImage)  "
   ]
  },
  {
   "cell_type": "markdown",
   "metadata": {},
   "source": [
    "Code to show an image: \n",
    "#cv2.imshow('image',img)\n",
    "#cv2.waitKey(0)\n",
    "#cv2.destroyAllWindows()"
   ]
  }
 ],
 "metadata": {
  "kernelspec": {
   "display_name": "Python 3",
   "language": "python",
   "name": "python3"
  },
  "language_info": {
   "codemirror_mode": {
    "name": "ipython",
    "version": 3
   },
   "file_extension": ".py",
   "mimetype": "text/x-python",
   "name": "python",
   "nbconvert_exporter": "python",
   "pygments_lexer": "ipython3",
   "version": "3.6.5"
  }
 },
 "nbformat": 4,
 "nbformat_minor": 2
}
